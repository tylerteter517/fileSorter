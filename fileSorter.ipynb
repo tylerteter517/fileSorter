{
 "cells": [
  {
   "cell_type": "markdown",
   "id": "13bd9544",
   "metadata": {},
   "source": [
    "# Automatic File Sorter"
   ]
  },
  {
   "cell_type": "code",
   "execution_count": 1,
   "id": "53239ebb",
   "metadata": {},
   "outputs": [],
   "source": [
    "import os, shutil"
   ]
  },
  {
   "cell_type": "code",
   "execution_count": 2,
   "id": "824a2318",
   "metadata": {},
   "outputs": [
    {
     "name": "stdout",
     "output_type": "stream",
     "text": [
      "Enter your username: tyler\n"
     ]
    }
   ],
   "source": [
    "path = r\"C:/Users/tyler/Documents/python/\""
   ]
  },
  {
   "cell_type": "code",
   "execution_count": 3,
   "id": "c80c3087",
   "metadata": {},
   "outputs": [],
   "source": [
    "file_name = os.listdir(path)"
   ]
  },
  {
   "cell_type": "code",
   "execution_count": 4,
   "id": "8a731617",
   "metadata": {},
   "outputs": [
    {
     "name": "stdout",
     "output_type": "stream",
     "text": [
      "[]\n"
     ]
    }
   ],
   "source": [
    "folder_names = ['csv files', 'image files', 'pdf files', 'text files']\n",
    "\n",
    "for loop in range(len(folder_names)):\n",
    "    if not os.path.exists(path + folder_names[loop]):\n",
    " #       print(path + folder_names[loop])\n",
    "        os.makedirs(path + folder_names[loop])\n",
    "\n",
    "error=[]\n",
    "\n",
    "for file in file_name:\n",
    "    try:\n",
    "        if \".jpg\" in file and not os.path.exists(path + \"images files/\" + file):\n",
    "            shutil.move(path + file,path + \"image files/\" + file)\n",
    "        elif \".png\" in file and not os.path.exists(path + \"images files/\" + file):\n",
    "            shutil.move(path + file,path + \"image files/\" + file)\n",
    "        elif \".txt\" in file and not os.path.exists(path + \"text files/\" + file):\n",
    "            shutil.move(path + file,path + \"text files/\" + file)\n",
    "        elif \".pdf\" in file and not os.path.exists(path + \"pdf files/\" + file):\n",
    "            shutil.move(path + file,path + \"pdf files/\" + file)\n",
    "        else:\n",
    "            print(file + \" was not moved!\")\n",
    "    except Exception as e:\n",
    "        error.append(f\"Error: {e} - File: {file}\")\n",
    "        \n",
    "print(error)"
   ]
  },
  {
   "cell_type": "code",
   "execution_count": null,
   "id": "76d4421f",
   "metadata": {},
   "outputs": [],
   "source": []
  },
  {
   "cell_type": "code",
   "execution_count": null,
   "id": "ce6f37db",
   "metadata": {},
   "outputs": [],
   "source": []
  },
  {
   "cell_type": "code",
   "execution_count": null,
   "id": "f667fe86",
   "metadata": {},
   "outputs": [],
   "source": []
  },
  {
   "cell_type": "code",
   "execution_count": null,
   "id": "9ef82b3a",
   "metadata": {},
   "outputs": [],
   "source": []
  }
 ],
 "metadata": {
  "kernelspec": {
   "display_name": "Python 3 (ipykernel)",
   "language": "python",
   "name": "python3"
  },
  "language_info": {
   "codemirror_mode": {
    "name": "ipython",
    "version": 3
   },
   "file_extension": ".py",
   "mimetype": "text/x-python",
   "name": "python",
   "nbconvert_exporter": "python",
   "pygments_lexer": "ipython3",
   "version": "3.9.7"
  }
 },
 "nbformat": 4,
 "nbformat_minor": 5
}
